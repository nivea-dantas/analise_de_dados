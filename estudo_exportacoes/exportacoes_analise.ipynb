{
 "cells": [
  {
   "cell_type": "code",
   "execution_count": 1,
   "metadata": {},
   "outputs": [],
   "source": [
    "from multiprocessing.spawn import import_main_path\n",
    "import pandas as pd\n",
    "import numpy as np\n",
    "import matplotlib.pyplot as plt"
   ]
  },
  {
   "cell_type": "code",
   "execution_count": 2,
   "metadata": {},
   "outputs": [],
   "source": [
    "df = pd.read_excel('SERIE_FAIXA_EMPREGADOS.xlsx')"
   ]
  },
  {
   "cell_type": "code",
   "execution_count": 3,
   "metadata": {},
   "outputs": [
    {
     "data": {
      "text/html": [
       "<div>\n",
       "<style scoped>\n",
       "    .dataframe tbody tr th:only-of-type {\n",
       "        vertical-align: middle;\n",
       "    }\n",
       "\n",
       "    .dataframe tbody tr th {\n",
       "        vertical-align: top;\n",
       "    }\n",
       "\n",
       "    .dataframe thead th {\n",
       "        text-align: right;\n",
       "    }\n",
       "</style>\n",
       "<table border=\"1\" class=\"dataframe\">\n",
       "  <thead>\n",
       "    <tr style=\"text-align: right;\">\n",
       "      <th></th>\n",
       "      <th>CO_ANO</th>\n",
       "      <th>FAIXA_EMPREGADOS</th>\n",
       "      <th>SETOR</th>\n",
       "      <th>VL_FOB</th>\n",
       "      <th>QTD_OPER</th>\n",
       "      <th>FLUXO</th>\n",
       "    </tr>\n",
       "  </thead>\n",
       "  <tbody>\n",
       "    <tr>\n",
       "      <th>0</th>\n",
       "      <td>2012</td>\n",
       "      <td>De 0 - 9 Empregados</td>\n",
       "      <td>AGROPECUARIA</td>\n",
       "      <td>730383290</td>\n",
       "      <td>127</td>\n",
       "      <td>EXP</td>\n",
       "    </tr>\n",
       "    <tr>\n",
       "      <th>1</th>\n",
       "      <td>2012</td>\n",
       "      <td>De 0 - 9 Empregados</td>\n",
       "      <td>COMERCIO</td>\n",
       "      <td>32131520417</td>\n",
       "      <td>3787</td>\n",
       "      <td>EXP</td>\n",
       "    </tr>\n",
       "    <tr>\n",
       "      <th>2</th>\n",
       "      <td>2012</td>\n",
       "      <td>De 0 - 9 Empregados</td>\n",
       "      <td>CONSTRUCAO CIVIL</td>\n",
       "      <td>99059469</td>\n",
       "      <td>26</td>\n",
       "      <td>EXP</td>\n",
       "    </tr>\n",
       "    <tr>\n",
       "      <th>3</th>\n",
       "      <td>2012</td>\n",
       "      <td>De 0 - 9 Empregados</td>\n",
       "      <td>INDUSTRIA</td>\n",
       "      <td>23180324315</td>\n",
       "      <td>2308</td>\n",
       "      <td>EXP</td>\n",
       "    </tr>\n",
       "    <tr>\n",
       "      <th>4</th>\n",
       "      <td>2012</td>\n",
       "      <td>De 0 - 9 Empregados</td>\n",
       "      <td>SERVICOS</td>\n",
       "      <td>426848819</td>\n",
       "      <td>371</td>\n",
       "      <td>EXP</td>\n",
       "    </tr>\n",
       "  </tbody>\n",
       "</table>\n",
       "</div>"
      ],
      "text/plain": [
       "   CO_ANO     FAIXA_EMPREGADOS             SETOR       VL_FOB  QTD_OPER FLUXO\n",
       "0    2012  De 0 - 9 Empregados      AGROPECUARIA    730383290       127   EXP\n",
       "1    2012  De 0 - 9 Empregados          COMERCIO  32131520417      3787   EXP\n",
       "2    2012  De 0 - 9 Empregados  CONSTRUCAO CIVIL     99059469        26   EXP\n",
       "3    2012  De 0 - 9 Empregados         INDUSTRIA  23180324315      2308   EXP\n",
       "4    2012  De 0 - 9 Empregados          SERVICOS    426848819       371   EXP"
      ]
     },
     "execution_count": 3,
     "metadata": {},
     "output_type": "execute_result"
    }
   ],
   "source": [
    "df.head()"
   ]
  },
  {
   "cell_type": "code",
   "execution_count": 4,
   "metadata": {},
   "outputs": [
    {
     "data": {
      "text/plain": [
       "CO_ANO               int64\n",
       "FAIXA_EMPREGADOS    object\n",
       "SETOR               object\n",
       "VL_FOB               int64\n",
       "QTD_OPER             int64\n",
       "FLUXO               object\n",
       "dtype: object"
      ]
     },
     "execution_count": 4,
     "metadata": {},
     "output_type": "execute_result"
    }
   ],
   "source": [
    "df.dtypes"
   ]
  },
  {
   "cell_type": "code",
   "execution_count": 5,
   "metadata": {},
   "outputs": [],
   "source": [
    "df_1 = df.groupby(['CO_ANO', 'FLUXO', 'SETOR']).sum('VL_FOB')\n",
    "#df_1 = df.reset_index()\n",
    "#.sum('VL_FOB')"
   ]
  },
  {
   "cell_type": "code",
   "execution_count": 6,
   "metadata": {},
   "outputs": [
    {
     "data": {
      "text/plain": [
       "array(['De 0 - 9 Empregados', 'De 10 - 19 Empregados',\n",
       "       'De 100 - 249 Empregados', 'De 20 - 49 Empregados',\n",
       "       'De 250 - 499 Empregados', 'De 50 - 99 Empregados',\n",
       "       'Igual ou acima de 500 Empregados', 'NAO DEFINIDO',\n",
       "       'PESSOA FISICA'], dtype=object)"
      ]
     },
     "execution_count": 6,
     "metadata": {},
     "output_type": "execute_result"
    }
   ],
   "source": [
    "df['FAIXA_EMPREGADOS'].unique() #['De 0 - 9 Empregados', 'De 10 - 19 Empregados', 'De 100 - 249 Empregados', 'De 20 - 49 Empregados', 'De 250 - 499 Empregados', 'De 50 - 99 Empregados', 'Igual ou acima de 500 Empregados', 'NAO DEFINIDO', FISICA']"
   ]
  },
  {
   "cell_type": "code",
   "execution_count": 7,
   "metadata": {},
   "outputs": [
    {
     "data": {
      "text/plain": [
       "array([2012, 2013, 2014, 2015, 2016, 2017, 2018, 2019], dtype=int64)"
      ]
     },
     "execution_count": 7,
     "metadata": {},
     "output_type": "execute_result"
    }
   ],
   "source": [
    "df['CO_ANO'].unique() #[2012, 2013, 2014, 2015, 2016, 2017, 2018, 2019]"
   ]
  },
  {
   "cell_type": "code",
   "execution_count": 8,
   "metadata": {},
   "outputs": [],
   "source": [
    "df_agro = df[df['SETOR'] == 'AGROPECUARIA']"
   ]
  },
  {
   "cell_type": "code",
   "execution_count": 9,
   "metadata": {},
   "outputs": [
    {
     "data": {
      "text/html": [
       "<div>\n",
       "<style scoped>\n",
       "    .dataframe tbody tr th:only-of-type {\n",
       "        vertical-align: middle;\n",
       "    }\n",
       "\n",
       "    .dataframe tbody tr th {\n",
       "        vertical-align: top;\n",
       "    }\n",
       "\n",
       "    .dataframe thead th {\n",
       "        text-align: right;\n",
       "    }\n",
       "</style>\n",
       "<table border=\"1\" class=\"dataframe\">\n",
       "  <thead>\n",
       "    <tr style=\"text-align: right;\">\n",
       "      <th></th>\n",
       "      <th></th>\n",
       "      <th>VL_FOB</th>\n",
       "      <th>QTD_OPER</th>\n",
       "    </tr>\n",
       "    <tr>\n",
       "      <th>CO_ANO</th>\n",
       "      <th>FLUXO</th>\n",
       "      <th></th>\n",
       "      <th></th>\n",
       "    </tr>\n",
       "  </thead>\n",
       "  <tbody>\n",
       "    <tr>\n",
       "      <th rowspan=\"2\" valign=\"top\">2012</th>\n",
       "      <th>EXP</th>\n",
       "      <td>2836104283</td>\n",
       "      <td>433</td>\n",
       "    </tr>\n",
       "    <tr>\n",
       "      <th>IMP</th>\n",
       "      <td>265008439</td>\n",
       "      <td>394</td>\n",
       "    </tr>\n",
       "    <tr>\n",
       "      <th rowspan=\"2\" valign=\"top\">2013</th>\n",
       "      <th>EXP</th>\n",
       "      <td>3006978815</td>\n",
       "      <td>434</td>\n",
       "    </tr>\n",
       "    <tr>\n",
       "      <th>IMP</th>\n",
       "      <td>352843116</td>\n",
       "      <td>409</td>\n",
       "    </tr>\n",
       "    <tr>\n",
       "      <th rowspan=\"2\" valign=\"top\">2014</th>\n",
       "      <th>EXP</th>\n",
       "      <td>3230370624</td>\n",
       "      <td>429</td>\n",
       "    </tr>\n",
       "    <tr>\n",
       "      <th>IMP</th>\n",
       "      <td>332832532</td>\n",
       "      <td>373</td>\n",
       "    </tr>\n",
       "    <tr>\n",
       "      <th rowspan=\"2\" valign=\"top\">2015</th>\n",
       "      <th>EXP</th>\n",
       "      <td>3043301138</td>\n",
       "      <td>469</td>\n",
       "    </tr>\n",
       "    <tr>\n",
       "      <th>IMP</th>\n",
       "      <td>257625068</td>\n",
       "      <td>346</td>\n",
       "    </tr>\n",
       "    <tr>\n",
       "      <th rowspan=\"2\" valign=\"top\">2016</th>\n",
       "      <th>EXP</th>\n",
       "      <td>2585356739</td>\n",
       "      <td>503</td>\n",
       "    </tr>\n",
       "    <tr>\n",
       "      <th>IMP</th>\n",
       "      <td>582017560</td>\n",
       "      <td>364</td>\n",
       "    </tr>\n",
       "    <tr>\n",
       "      <th rowspan=\"2\" valign=\"top\">2017</th>\n",
       "      <th>EXP</th>\n",
       "      <td>3025764423</td>\n",
       "      <td>505</td>\n",
       "    </tr>\n",
       "    <tr>\n",
       "      <th>IMP</th>\n",
       "      <td>600033926</td>\n",
       "      <td>405</td>\n",
       "    </tr>\n",
       "    <tr>\n",
       "      <th rowspan=\"2\" valign=\"top\">2018</th>\n",
       "      <th>EXP</th>\n",
       "      <td>3159629871</td>\n",
       "      <td>553</td>\n",
       "    </tr>\n",
       "    <tr>\n",
       "      <th>IMP</th>\n",
       "      <td>680105260</td>\n",
       "      <td>393</td>\n",
       "    </tr>\n",
       "    <tr>\n",
       "      <th rowspan=\"2\" valign=\"top\">2019</th>\n",
       "      <th>EXP</th>\n",
       "      <td>3097211592</td>\n",
       "      <td>594</td>\n",
       "    </tr>\n",
       "    <tr>\n",
       "      <th>IMP</th>\n",
       "      <td>273109510</td>\n",
       "      <td>357</td>\n",
       "    </tr>\n",
       "  </tbody>\n",
       "</table>\n",
       "</div>"
      ],
      "text/plain": [
       "                  VL_FOB  QTD_OPER\n",
       "CO_ANO FLUXO                      \n",
       "2012   EXP    2836104283       433\n",
       "       IMP     265008439       394\n",
       "2013   EXP    3006978815       434\n",
       "       IMP     352843116       409\n",
       "2014   EXP    3230370624       429\n",
       "       IMP     332832532       373\n",
       "2015   EXP    3043301138       469\n",
       "       IMP     257625068       346\n",
       "2016   EXP    2585356739       503\n",
       "       IMP     582017560       364\n",
       "2017   EXP    3025764423       505\n",
       "       IMP     600033926       405\n",
       "2018   EXP    3159629871       553\n",
       "       IMP     680105260       393\n",
       "2019   EXP    3097211592       594\n",
       "       IMP     273109510       357"
      ]
     },
     "execution_count": 9,
     "metadata": {},
     "output_type": "execute_result"
    }
   ],
   "source": [
    "df_agro.groupby(['CO_ANO','FLUXO']).sum('VL_FOB')"
   ]
  },
  {
   "cell_type": "code",
   "execution_count": 10,
   "metadata": {},
   "outputs": [],
   "source": [
    "df_exportacoes = df[df['FLUXO'] == 'EXP']\n",
    "df_importacoes = df[df['FLUXO'] == 'IMP']\n",
    "a = df_exportacoes.groupby('CO_ANO').sum()\n",
    "b = df_importacoes.groupby('CO_ANO').sum()"
   ]
  },
  {
   "cell_type": "code",
   "execution_count": 11,
   "metadata": {},
   "outputs": [],
   "source": [
    "setores = ['exportacoes', 'importacoes']"
   ]
  },
  {
   "cell_type": "code",
   "execution_count": 17,
   "metadata": {},
   "outputs": [],
   "source": [
    "exportacoes = a['VL_FOB'].values\n",
    "importacoes = b['VL_FOB'].values"
   ]
  },
  {
   "cell_type": "code",
   "execution_count": 18,
   "metadata": {},
   "outputs": [
    {
     "data": {
      "text/plain": [
       "array([225166426069, 241500886459, 230823018796, 173104259077,\n",
       "       139321357653, 158951444003, 185321983502, 185927967580],\n",
       "      dtype=int64)"
      ]
     },
     "execution_count": 18,
     "metadata": {},
     "output_type": "execute_result"
    }
   ],
   "source": [
    "importacoes"
   ]
  },
  {
   "cell_type": "code",
   "execution_count": 20,
   "metadata": {},
   "outputs": [
    {
     "ename": "ValueError",
     "evalue": "shape mismatch: objects cannot be broadcast to a single shape.  Mismatch is between arg 0 with shape (2,) and arg 1 with shape (8,).",
     "output_type": "error",
     "traceback": [
      "\u001b[1;31m---------------------------------------------------------------------------\u001b[0m",
      "\u001b[1;31mValueError\u001b[0m                                Traceback (most recent call last)",
      "\u001b[1;32mc:\\Users\\Nivea Helena\\Documents\\developer\\ciencia de dados\\projetos_ds\\Data_cleaning\\estudo_exportacoes\\exportacoes_analise.ipynb Célula: 14\u001b[0m in \u001b[0;36m<cell line: 5>\u001b[1;34m()\u001b[0m\n\u001b[0;32m      <a href='vscode-notebook-cell:/c%3A/Users/Nivea%20Helena/Documents/developer/ciencia%20de%20dados/projetos_ds/Data_cleaning/estudo_exportacoes/exportacoes_analise.ipynb#X30sZmlsZQ%3D%3D?line=1'>2</a>\u001b[0m width \u001b[39m=\u001b[39m \u001b[39m0.15\u001b[39m  \u001b[39m# the width of the bars\u001b[39;00m\n\u001b[0;32m      <a href='vscode-notebook-cell:/c%3A/Users/Nivea%20Helena/Documents/developer/ciencia%20de%20dados/projetos_ds/Data_cleaning/estudo_exportacoes/exportacoes_analise.ipynb#X30sZmlsZQ%3D%3D?line=3'>4</a>\u001b[0m fig, ax \u001b[39m=\u001b[39m plt\u001b[39m.\u001b[39msubplots(figsize\u001b[39m=\u001b[39m (\u001b[39m20\u001b[39m,\u001b[39m5\u001b[39m))\n\u001b[1;32m----> <a href='vscode-notebook-cell:/c%3A/Users/Nivea%20Helena/Documents/developer/ciencia%20de%20dados/projetos_ds/Data_cleaning/estudo_exportacoes/exportacoes_analise.ipynb#X30sZmlsZQ%3D%3D?line=4'>5</a>\u001b[0m rects1 \u001b[39m=\u001b[39m ax\u001b[39m.\u001b[39;49mbar(x \u001b[39m-\u001b[39;49m width\u001b[39m/\u001b[39;49m\u001b[39m2\u001b[39;49m, exportacoes, width)\n\u001b[0;32m      <a href='vscode-notebook-cell:/c%3A/Users/Nivea%20Helena/Documents/developer/ciencia%20de%20dados/projetos_ds/Data_cleaning/estudo_exportacoes/exportacoes_analise.ipynb#X30sZmlsZQ%3D%3D?line=5'>6</a>\u001b[0m \u001b[39m#rects2 = ax.bar(x + width/2, importacoes, width)\u001b[39;00m\n\u001b[0;32m      <a href='vscode-notebook-cell:/c%3A/Users/Nivea%20Helena/Documents/developer/ciencia%20de%20dados/projetos_ds/Data_cleaning/estudo_exportacoes/exportacoes_analise.ipynb#X30sZmlsZQ%3D%3D?line=7'>8</a>\u001b[0m ax\u001b[39m.\u001b[39mset_ylabel(\u001b[39m'\u001b[39m\u001b[39mScores\u001b[39m\u001b[39m'\u001b[39m)\n",
      "File \u001b[1;32mc:\\Users\\Nivea Helena\\AppData\\Local\\Programs\\Python\\Python310\\lib\\site-packages\\matplotlib\\__init__.py:1412\u001b[0m, in \u001b[0;36m_preprocess_data.<locals>.inner\u001b[1;34m(ax, data, *args, **kwargs)\u001b[0m\n\u001b[0;32m   1409\u001b[0m \u001b[39m@functools\u001b[39m\u001b[39m.\u001b[39mwraps(func)\n\u001b[0;32m   1410\u001b[0m \u001b[39mdef\u001b[39;00m \u001b[39minner\u001b[39m(ax, \u001b[39m*\u001b[39margs, data\u001b[39m=\u001b[39m\u001b[39mNone\u001b[39;00m, \u001b[39m*\u001b[39m\u001b[39m*\u001b[39mkwargs):\n\u001b[0;32m   1411\u001b[0m     \u001b[39mif\u001b[39;00m data \u001b[39mis\u001b[39;00m \u001b[39mNone\u001b[39;00m:\n\u001b[1;32m-> 1412\u001b[0m         \u001b[39mreturn\u001b[39;00m func(ax, \u001b[39m*\u001b[39m\u001b[39mmap\u001b[39m(sanitize_sequence, args), \u001b[39m*\u001b[39m\u001b[39m*\u001b[39mkwargs)\n\u001b[0;32m   1414\u001b[0m     bound \u001b[39m=\u001b[39m new_sig\u001b[39m.\u001b[39mbind(ax, \u001b[39m*\u001b[39margs, \u001b[39m*\u001b[39m\u001b[39m*\u001b[39mkwargs)\n\u001b[0;32m   1415\u001b[0m     auto_label \u001b[39m=\u001b[39m (bound\u001b[39m.\u001b[39marguments\u001b[39m.\u001b[39mget(label_namer)\n\u001b[0;32m   1416\u001b[0m                   \u001b[39mor\u001b[39;00m bound\u001b[39m.\u001b[39mkwargs\u001b[39m.\u001b[39mget(label_namer))\n",
      "File \u001b[1;32mc:\\Users\\Nivea Helena\\AppData\\Local\\Programs\\Python\\Python310\\lib\\site-packages\\matplotlib\\axes\\_axes.py:2342\u001b[0m, in \u001b[0;36mAxes.bar\u001b[1;34m(self, x, height, width, bottom, align, **kwargs)\u001b[0m\n\u001b[0;32m   2339\u001b[0m     \u001b[39mif\u001b[39;00m yerr \u001b[39mis\u001b[39;00m \u001b[39mnot\u001b[39;00m \u001b[39mNone\u001b[39;00m:\n\u001b[0;32m   2340\u001b[0m         yerr \u001b[39m=\u001b[39m \u001b[39mself\u001b[39m\u001b[39m.\u001b[39m_convert_dx(yerr, y0, y, \u001b[39mself\u001b[39m\u001b[39m.\u001b[39mconvert_yunits)\n\u001b[1;32m-> 2342\u001b[0m x, height, width, y, linewidth, hatch \u001b[39m=\u001b[39m np\u001b[39m.\u001b[39;49mbroadcast_arrays(\n\u001b[0;32m   2343\u001b[0m     \u001b[39m# Make args iterable too.\u001b[39;49;00m\n\u001b[0;32m   2344\u001b[0m     np\u001b[39m.\u001b[39;49matleast_1d(x), height, width, y, linewidth, hatch)\n\u001b[0;32m   2346\u001b[0m \u001b[39m# Now that units have been converted, set the tick locations.\u001b[39;00m\n\u001b[0;32m   2347\u001b[0m \u001b[39mif\u001b[39;00m orientation \u001b[39m==\u001b[39m \u001b[39m'\u001b[39m\u001b[39mvertical\u001b[39m\u001b[39m'\u001b[39m:\n",
      "File \u001b[1;32m<__array_function__ internals>:180\u001b[0m, in \u001b[0;36mbroadcast_arrays\u001b[1;34m(*args, **kwargs)\u001b[0m\n",
      "File \u001b[1;32mc:\\Users\\Nivea Helena\\AppData\\Local\\Programs\\Python\\Python310\\lib\\site-packages\\numpy\\lib\\stride_tricks.py:539\u001b[0m, in \u001b[0;36mbroadcast_arrays\u001b[1;34m(subok, *args)\u001b[0m\n\u001b[0;32m    532\u001b[0m \u001b[39m# nditer is not used here to avoid the limit of 32 arrays.\u001b[39;00m\n\u001b[0;32m    533\u001b[0m \u001b[39m# Otherwise, something like the following one-liner would suffice:\u001b[39;00m\n\u001b[0;32m    534\u001b[0m \u001b[39m# return np.nditer(args, flags=['multi_index', 'zerosize_ok'],\u001b[39;00m\n\u001b[0;32m    535\u001b[0m \u001b[39m#                  order='C').itviews\u001b[39;00m\n\u001b[0;32m    537\u001b[0m args \u001b[39m=\u001b[39m [np\u001b[39m.\u001b[39marray(_m, copy\u001b[39m=\u001b[39m\u001b[39mFalse\u001b[39;00m, subok\u001b[39m=\u001b[39msubok) \u001b[39mfor\u001b[39;00m _m \u001b[39min\u001b[39;00m args]\n\u001b[1;32m--> 539\u001b[0m shape \u001b[39m=\u001b[39m _broadcast_shape(\u001b[39m*\u001b[39;49margs)\n\u001b[0;32m    541\u001b[0m \u001b[39mif\u001b[39;00m \u001b[39mall\u001b[39m(array\u001b[39m.\u001b[39mshape \u001b[39m==\u001b[39m shape \u001b[39mfor\u001b[39;00m array \u001b[39min\u001b[39;00m args):\n\u001b[0;32m    542\u001b[0m     \u001b[39m# Common case where nothing needs to be broadcasted.\u001b[39;00m\n\u001b[0;32m    543\u001b[0m     \u001b[39mreturn\u001b[39;00m args\n",
      "File \u001b[1;32mc:\\Users\\Nivea Helena\\AppData\\Local\\Programs\\Python\\Python310\\lib\\site-packages\\numpy\\lib\\stride_tricks.py:421\u001b[0m, in \u001b[0;36m_broadcast_shape\u001b[1;34m(*args)\u001b[0m\n\u001b[0;32m    416\u001b[0m \u001b[39m\"\"\"Returns the shape of the arrays that would result from broadcasting the\u001b[39;00m\n\u001b[0;32m    417\u001b[0m \u001b[39msupplied arrays against each other.\u001b[39;00m\n\u001b[0;32m    418\u001b[0m \u001b[39m\"\"\"\u001b[39;00m\n\u001b[0;32m    419\u001b[0m \u001b[39m# use the old-iterator because np.nditer does not handle size 0 arrays\u001b[39;00m\n\u001b[0;32m    420\u001b[0m \u001b[39m# consistently\u001b[39;00m\n\u001b[1;32m--> 421\u001b[0m b \u001b[39m=\u001b[39m np\u001b[39m.\u001b[39;49mbroadcast(\u001b[39m*\u001b[39;49margs[:\u001b[39m32\u001b[39;49m])\n\u001b[0;32m    422\u001b[0m \u001b[39m# unfortunately, it cannot handle 32 or more arguments directly\u001b[39;00m\n\u001b[0;32m    423\u001b[0m \u001b[39mfor\u001b[39;00m pos \u001b[39min\u001b[39;00m \u001b[39mrange\u001b[39m(\u001b[39m32\u001b[39m, \u001b[39mlen\u001b[39m(args), \u001b[39m31\u001b[39m):\n\u001b[0;32m    424\u001b[0m     \u001b[39m# ironically, np.broadcast does not properly handle np.broadcast\u001b[39;00m\n\u001b[0;32m    425\u001b[0m     \u001b[39m# objects (it treats them as scalars)\u001b[39;00m\n\u001b[0;32m    426\u001b[0m     \u001b[39m# use broadcasting to avoid allocating the full array\u001b[39;00m\n",
      "\u001b[1;31mValueError\u001b[0m: shape mismatch: objects cannot be broadcast to a single shape.  Mismatch is between arg 0 with shape (2,) and arg 1 with shape (8,)."
     ]
    },
    {
     "data": {
      "image/png": "[encoded data removed]",
      "text/plain": [
       "<Figure size 1440x360 with 1 Axes>"
      ]
     },
     "metadata": {
      "needs_background": "light"
     },
     "output_type": "display_data"
    }
   ],
   "source": [
    "x = np.arange(len(setores))  # the label locations\n",
    "width = 0.15  # the width of the bars\n",
    "\n",
    "fig, ax = plt.subplots(figsize= (20,5))\n",
    "rects1 = ax.bar(x - width/2, exportacoes, width)\n",
    "#rects2 = ax.bar(x + width/2, importacoes, width)\n",
    "\n",
    "ax.set_ylabel('Scores')\n",
    "ax.set_title('Importações x Exportações Brasileiras')\n",
    "ax.set_xticks(x, setores)\n",
    "ax.legend()"
   ]
  },
  {
   "cell_type": "code",
   "execution_count": 19,
   "metadata": {},
   "outputs": [
    {
     "name": "stderr",
     "output_type": "stream",
     "text": [
      "No artists with labels found to put in legend.  Note that artists whose label start with an underscore are ignored when legend() is called with no argument.\n"
     ]
    },
    {
     "data": {
      "image/png": "[encoded data removed]",
      "text/plain": [
       "<Figure size 1440x360 with 1 Axes>"
      ]
     },
     "metadata": {
      "needs_background": "light"
     },
     "output_type": "display_data"
    }
   ],
   "source": [
    "#plot 2012\n",
    "df_exportacoes = df[(df['CO_ANO'] == 2012) & (df['FLUXO'] == 'EXP')]\n",
    "df_importacoes = df[(df['CO_ANO'] == 2012) & (df['FLUXO'] == 'IMP')]\n",
    "'''df_exportacoes_2013 = df[(df['CO_ANO'] == 2013) & (df['FLUXO'] == 'EXP')]\n",
    "df_importacoes_2013 = df[(df['CO_ANO'] == 2013) & (df['FLUXO'] == 'IMP')]\n",
    "df_exportacoes_2014 = df[(df['CO_ANO'] == 2014) & (df['FLUXO'] == 'EXP')]\n",
    "df_importacoes_2014 = df[(df['CO_ANO'] == 2014) & (df['FLUXO'] == 'IMP')]\n",
    "df_exportacoes_2015 = df[(df['CO_ANO'] == 2015) & (df['FLUXO'] == 'EXP')]\n",
    "df_importacoes_2015 = df[(df['CO_ANO'] == 2015) & (df['FLUXO'] == 'IMP')]'''\n",
    "\n",
    "a = df_exportacoes.groupby(['SETOR','FLUXO']).sum()\n",
    "b = df_importacoes.groupby(['SETOR','FLUXO']).sum()\n",
    "'''c = df_exportacoes_2013.groupby(['SETOR','FLUXO']).sum()\n",
    "d = df_importacoes_2013.groupby(['SETOR','FLUXO']).sum()\n",
    "e = df_exportacoes_2014.groupby(['SETOR','FLUXO']).sum()\n",
    "f = df_importacoes_2014.groupby(['SETOR','FLUXO']).sum()\n",
    "g = df_exportacoes_2015.groupby(['SETOR','FLUXO']).sum()\n",
    "h = df_importacoes_2015.groupby(['SETOR','FLUXO']).sum()\n",
    "'''\n",
    "#setores = list(df['SETOR'].unique()) #['AGROPECUARIA', 'COMERCIO', 'CONSTRUCAO CIVIL', 'INDUSTRIA', 'SERVICOS', 'OUTROS']\n",
    "#exportacoes_2012 = a['VL_FOB'].values\n",
    "#importacoes_2012 = b['VL_FOB'].values\n",
    "'''exportacoes_2013 = c['VL_FOB'].values\n",
    "importacoes_2013 = d['VL_FOB'].values\n",
    "exportacoes_2014 = e['VL_FOB'].values\n",
    "importacoes_2014 = f['VL_FOB'].values\n",
    "exportacoes_2015 = g['VL_FOB'].values\n",
    "importacoes_2015 = h['VL_FOB'].values'''\n",
    "\n",
    "\n",
    "x = np.arange(len(setores))  # the label locations\n",
    "width = 0.15  # the width of the bars\n",
    "\n",
    "fig, ax = plt.subplots(figsize= (20,5))\n",
    "rects1 = ax.bar(x - width/2, exportacoes_2012, width)\n",
    "rects2 = ax.bar(x + width/2, importacoes_2012, width)\n",
    "'''rects3 = ax.bar(x + width*2, exportacoes_2013, width, label='exportacoes_2013')\n",
    "rects4 = ax.bar(x + width*3, importacoes_2013, width, label='importacoes_2013')\n",
    "\n",
    "rects5 = ax.bar(x - width*4, exportacoes_2014, width, label='exportacoes2014')\n",
    "rects6 = ax.bar(x + width*5, importacoes_2014, width, label='importacoes2014')\n",
    "rects7 = ax.bar(x + width*6, exportacoes_2015, width, label='exportacoes_2015')\n",
    "rects8 = ax.bar(x + width*7, importacoes_2015, width, label='importacoes_2015')'''\n",
    "\n",
    "\n",
    "\n",
    "\n",
    "# Add some text for labels, title and custom x-axis tick labels, etc.\n",
    "ax.set_ylabel('Scores')\n",
    "ax.set_title('Importações x Exportações Brasileiras')\n",
    "ax.set_xticks(x, setores)\n",
    "ax.legend()\n",
    "#ax.bar_label(rects1, padding=3)\n",
    "#ax.bar_label(rects2, padding=3)\n",
    "\n",
    "fig.tight_layout()\n",
    "\n",
    "plt.show()\n"
   ]
  },
  {
   "cell_type": "code",
   "execution_count": null,
   "metadata": {},
   "outputs": [],
   "source": []
  },
  {
   "cell_type": "code",
   "execution_count": 65,
   "metadata": {},
   "outputs": [
    {
     "data": {
      "text/plain": [
       "<matplotlib.legend.Legend at 0x1a03d9932b0>"
      ]
     },
     "execution_count": 65,
     "metadata": {},
     "output_type": "execute_result"
    },
    {
     "data": {
      "image/png": "[encoded data removed]",
      "text/plain": [
       "<Figure size 432x288 with 1 Axes>"
      ]
     },
     "metadata": {
      "needs_background": "light"
     },
     "output_type": "display_data"
    }
   ],
   "source": [
    "labels = ['G1', 'G2', 'G3', 'G4', 'G5']\n",
    "men_means = [20, 35, 30, 35, 27]\n",
    "women_means = [25, 32, 34, 20, 25]\n",
    "men_std = [2, 3, 4, 1, 2]\n",
    "women_std = [3, 5, 2, 3, 3]\n",
    "width = 0.35       # the width of the bars: can also be len(x) sequence\n",
    "\n",
    "fig, ax = plt.subplots()\n",
    "\n",
    "ax.bar(labels, men_means, width, yerr=men_std, label='Men')\n",
    "ax.bar(labels, women_means, width, yerr=women_std, bottom=men_means,\n",
    "       label='Women')\n",
    "\n",
    "ax.set_ylabel('Scores')\n",
    "ax.set_title('Scores by group and gender')\n",
    "ax.legend()\n"
   ]
  },
  {
   "cell_type": "code",
   "execution_count": 58,
   "metadata": {},
   "outputs": [
    {
     "data": {
      "image/png": "[encoded data removed]",
      "text/plain": [
       "<Figure size 720x360 with 1 Axes>"
      ]
     },
     "metadata": {
      "needs_background": "light"
     },
     "output_type": "display_data"
    }
   ],
   "source": [
    "df_exportacoes_2013 = df[(df['CO_ANO'] == 2013) & (df['FLUXO'] == 'EXP')]\n",
    "df_importacoes_2013 = df[(df['CO_ANO'] == 2013) & (df['FLUXO'] == 'IMP')]\n",
    "a = df_exportacoes_2013.groupby(['SETOR','FLUXO']).sum()\n",
    "b = df_importacoes_2013.groupby(['SETOR','FLUXO']).sum()\n",
    "\n",
    "setores = list(df['SETOR'].unique()) #['AGROPECUARIA', 'COMERCIO', 'CONSTRUCAO CIVIL', 'INDUSTRIA', 'SERVICOS', 'OUTROS']\n",
    "exportacoes_2013 = a['VL_FOB'].values\n",
    "importacoes_2013 = b['VL_FOB'].values\n",
    "\n",
    "x = np.arange(len(setores))  # the label locations\n",
    "width = 0.15  # the width of the bars\n",
    "\n",
    "fig, ax = plt.subplots(figsize= (10,5))\n",
    "rects1 = ax.bar(x - width, exportacoes_2013, width, label='exportacoes_2013')\n",
    "rects2 = ax.bar(x + width , importacoes_2013, width, label='importacoes_2013')\n",
    "\n",
    "# Add some text for labels, title and custom x-axis tick labels, etc.\n",
    "ax.set_ylabel('Scores')\n",
    "ax.set_title('Importações x Exportações Brasileiras')\n",
    "ax.set_xticks(x, setores)\n",
    "ax.legend()\n",
    "#ax.bar_label(rects1, padding=3)\n",
    "#ax.bar_label(rects2, padding=3)\n",
    "\n",
    "fig.tight_layout()\n",
    "\n",
    "plt.show()\n",
    "\n",
    "\n",
    "\n",
    "\n",
    "\n"
   ]
  },
  {
   "cell_type": "code",
   "execution_count": 11,
   "metadata": {},
   "outputs": [],
   "source": [
    "barWitdth = 0.25\n",
    "\n",
    "r1 = np.arange(len(exportacoes_2012))\n",
    "r2 = [x + barWitdth for x in r1]"
   ]
  },
  {
   "cell_type": "code",
   "execution_count": 12,
   "metadata": {},
   "outputs": [
    {
     "data": {
      "text/plain": [
       "<BarContainer object of 6 artists>"
      ]
     },
     "execution_count": 12,
     "metadata": {},
     "output_type": "execute_result"
    },
    {
     "data": {
      "image/png": "[encoded data removed]",
      "text/plain": [
       "<Figure size 432x288 with 1 Axes>"
      ]
     },
     "metadata": {
      "needs_background": "light"
     },
     "output_type": "display_data"
    }
   ],
   "source": [
    "plt.bar(r1, exportacoes_2012,color= 'blue', label= setores)"
   ]
  },
  {
   "cell_type": "code",
   "execution_count": null,
   "metadata": {},
   "outputs": [],
   "source": []
  },
  {
   "cell_type": "code",
   "execution_count": 8,
   "metadata": {},
   "outputs": [
    {
     "data": {
      "text/html": [
       "<div>\n",
       "<style scoped>\n",
       "    .dataframe tbody tr th:only-of-type {\n",
       "        vertical-align: middle;\n",
       "    }\n",
       "\n",
       "    .dataframe tbody tr th {\n",
       "        vertical-align: top;\n",
       "    }\n",
       "\n",
       "    .dataframe thead th {\n",
       "        text-align: right;\n",
       "    }\n",
       "</style>\n",
       "<table border=\"1\" class=\"dataframe\">\n",
       "  <thead>\n",
       "    <tr style=\"text-align: right;\">\n",
       "      <th></th>\n",
       "      <th>CO_ANO</th>\n",
       "      <th>SETOR</th>\n",
       "      <th>VL_FOB</th>\n",
       "      <th>QTD_OPER</th>\n",
       "      <th>FLUXO</th>\n",
       "    </tr>\n",
       "    <tr>\n",
       "      <th>FAIXA_EMPREGADOS</th>\n",
       "      <th></th>\n",
       "      <th></th>\n",
       "      <th></th>\n",
       "      <th></th>\n",
       "      <th></th>\n",
       "    </tr>\n",
       "  </thead>\n",
       "  <tbody>\n",
       "    <tr>\n",
       "      <th>De 0 - 9 Empregados</th>\n",
       "      <td>80</td>\n",
       "      <td>80</td>\n",
       "      <td>80</td>\n",
       "      <td>80</td>\n",
       "      <td>80</td>\n",
       "    </tr>\n",
       "    <tr>\n",
       "      <th>De 10 - 19 Empregados</th>\n",
       "      <td>80</td>\n",
       "      <td>80</td>\n",
       "      <td>80</td>\n",
       "      <td>80</td>\n",
       "      <td>80</td>\n",
       "    </tr>\n",
       "    <tr>\n",
       "      <th>De 100 - 249 Empregados</th>\n",
       "      <td>80</td>\n",
       "      <td>80</td>\n",
       "      <td>80</td>\n",
       "      <td>80</td>\n",
       "      <td>80</td>\n",
       "    </tr>\n",
       "    <tr>\n",
       "      <th>De 20 - 49 Empregados</th>\n",
       "      <td>80</td>\n",
       "      <td>80</td>\n",
       "      <td>80</td>\n",
       "      <td>80</td>\n",
       "      <td>80</td>\n",
       "    </tr>\n",
       "    <tr>\n",
       "      <th>De 250 - 499 Empregados</th>\n",
       "      <td>80</td>\n",
       "      <td>80</td>\n",
       "      <td>80</td>\n",
       "      <td>80</td>\n",
       "      <td>80</td>\n",
       "    </tr>\n",
       "    <tr>\n",
       "      <th>De 50 - 99 Empregados</th>\n",
       "      <td>80</td>\n",
       "      <td>80</td>\n",
       "      <td>80</td>\n",
       "      <td>80</td>\n",
       "      <td>80</td>\n",
       "    </tr>\n",
       "    <tr>\n",
       "      <th>Igual ou acima de 500 Empregados</th>\n",
       "      <td>80</td>\n",
       "      <td>80</td>\n",
       "      <td>80</td>\n",
       "      <td>80</td>\n",
       "      <td>80</td>\n",
       "    </tr>\n",
       "    <tr>\n",
       "      <th>NAO DEFINIDO</th>\n",
       "      <td>91</td>\n",
       "      <td>91</td>\n",
       "      <td>91</td>\n",
       "      <td>91</td>\n",
       "      <td>91</td>\n",
       "    </tr>\n",
       "    <tr>\n",
       "      <th>PESSOA FISICA</th>\n",
       "      <td>16</td>\n",
       "      <td>16</td>\n",
       "      <td>16</td>\n",
       "      <td>16</td>\n",
       "      <td>16</td>\n",
       "    </tr>\n",
       "  </tbody>\n",
       "</table>\n",
       "</div>"
      ],
      "text/plain": [
       "                                  CO_ANO  SETOR  VL_FOB  QTD_OPER  FLUXO\n",
       "FAIXA_EMPREGADOS                                                        \n",
       "De 0 - 9 Empregados                   80     80      80        80     80\n",
       "De 10 - 19 Empregados                 80     80      80        80     80\n",
       "De 100 - 249 Empregados               80     80      80        80     80\n",
       "De 20 - 49 Empregados                 80     80      80        80     80\n",
       "De 250 - 499 Empregados               80     80      80        80     80\n",
       "De 50 - 99 Empregados                 80     80      80        80     80\n",
       "Igual ou acima de 500 Empregados      80     80      80        80     80\n",
       "NAO DEFINIDO                          91     91      91        91     91\n",
       "PESSOA FISICA                         16     16      16        16     16"
      ]
     },
     "execution_count": 8,
     "metadata": {},
     "output_type": "execute_result"
    }
   ],
   "source": [
    "df.groupby('FAIXA_EMPREGADOS').count()"
   ]
  },
  {
   "cell_type": "code",
   "execution_count": null,
   "metadata": {},
   "outputs": [],
   "source": []
  }
 ],
 "metadata": {
  "kernelspec": {
   "display_name": "Python 3.10.4 64-bit",
   "language": "python",
   "name": "python3"
  },
  "language_info": {
   "codemirror_mode": {
    "name": "ipython",
    "version": 3
   },
   "file_extension": ".py",
   "mimetype": "text/x-python",
   "name": "python",
   "nbconvert_exporter": "python",
   "pygments_lexer": "ipython3",
   "version": "3.10.4"
  },
  "orig_nbformat": 4,
  "vscode": {
   "interpreter": {
    "hash": "b23e96e9000235e1d8fba2639f011a7c795a3ab50ce0f28a1a9cb5c7362660a5"
   }
  }
 },
 "nbformat": 4,
 "nbformat_minor": 2
}

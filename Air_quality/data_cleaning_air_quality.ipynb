{
 "cells": [
  {
   "cell_type": "code",
   "execution_count": 7,
   "metadata": {},
   "outputs": [],
   "source": [
    "import pandas as pd\n",
    "import numpy as np\n",
    "import matplotlib.pyplot as plt\n",
    "from math import sqrt"
   ]
  },
  {
   "cell_type": "code",
   "execution_count": 8,
   "metadata": {},
   "outputs": [],
   "source": [
    "df = pd.read_excel('C:/Users/Nivea Helena/Documents/developer/ciencia de dados/projetos_ds/Data_cleaning/Earlwood_Air_Data_17_18.xls/Earlwood_Air_Data_17_18.xls')"
   ]
  },
  {
   "cell_type": "code",
   "execution_count": 9,
   "metadata": {},
   "outputs": [
    {
     "data": {
      "text/plain": [
       "Date                                        8784\n",
       "Time                                        8784\n",
       "EARLWOOD WDR 1h average [°]                 8759\n",
       "EARLWOOD TEMP 1h average [°C]               8761\n",
       "EARLWOOD WSP 1h average [m/s]               8759\n",
       "EARLWOOD NO 1h average [pphm]               8295\n",
       "EARLWOOD NO2 1h average [pphm]              8295\n",
       "EARLWOOD CO 1h average [ppm]                   0\n",
       "EARLWOOD OZONE 1h average [pphm]            7918\n",
       "EARLWOOD OZONE 4h rolling average [pphm]    8216\n",
       "EARLWOOD PM10 1h average [µg/m³]            8692\n",
       "EARLWOOD PM2.5 1h average [µg/m³]           8614\n",
       "EARLWOOD HUMID 1h average [%]               8762\n",
       "EARLWOOD SD1 1h average [°]                 8759\n",
       "EARLWOOD CO 8h rolling average [ppm]           0\n",
       "dtype: int64"
      ]
     },
     "execution_count": 9,
     "metadata": {},
     "output_type": "execute_result"
    }
   ],
   "source": [
    "df.count()"
   ]
  },
  {
   "cell_type": "code",
   "execution_count": 10,
   "metadata": {},
   "outputs": [
    {
     "data": {
      "text/plain": [
       "Index(['Date', 'Time', 'EARLWOOD WDR 1h average [°]',\n",
       "       'EARLWOOD TEMP 1h average [°C]', 'EARLWOOD WSP 1h average [m/s]',\n",
       "       'EARLWOOD NO 1h average [pphm]', 'EARLWOOD NO2 1h average [pphm]',\n",
       "       'EARLWOOD CO 1h average [ppm]', 'EARLWOOD OZONE 1h average [pphm]',\n",
       "       'EARLWOOD OZONE 4h rolling average [pphm]',\n",
       "       'EARLWOOD PM10 1h average [µg/m³]', 'EARLWOOD PM2.5 1h average [µg/m³]',\n",
       "       'EARLWOOD HUMID 1h average [%]', 'EARLWOOD SD1 1h average [°]',\n",
       "       'EARLWOOD CO 8h rolling average [ppm]'],\n",
       "      dtype='object')"
      ]
     },
     "execution_count": 10,
     "metadata": {},
     "output_type": "execute_result"
    }
   ],
   "source": [
    "df.columns"
   ]
  },
  {
   "cell_type": "code",
   "execution_count": 11,
   "metadata": {},
   "outputs": [],
   "source": [
    "df = df.rename(columns={'Date': 'Date', 'Time': 'Time', 'EARLWOOD WDR 1h average [°]': 'WDR',\n",
    "       'EARLWOOD TEMP 1h average [°C]': 'TEMP', 'EARLWOOD WSP 1h average [m/s]': 'WSP',\n",
    "       'EARLWOOD NO 1h average [pphm]': 'NO', 'EARLWOOD NO2 1h average [pphm]': 'NO2',\n",
    "       'EARLWOOD CO 1h average [ppm]': 'CO', 'EARLWOOD OZONE 1h average [pphm]': 'OZONE',\n",
    "       'EARLWOOD OZONE 4h rolling average [pphm]': 'OZONE_4',\n",
    "       'EARLWOOD PM10 1h average [µg/m³]': 'PM10', 'EARLWOOD PM2.5 1h average [µg/m³]': 'PM2.5',\n",
    "       'EARLWOOD HUMID 1h average [%]': 'HUMID', 'EARLWOOD SD1 1h average [°]': 'SD1',\n",
    "       'EARLWOOD CO 8h rolling average [ppm]': 'CO_8'})"
   ]
  },
  {
   "cell_type": "code",
   "execution_count": 12,
   "metadata": {},
   "outputs": [],
   "source": [
    "df = df.fillna(value=0)"
   ]
  },
  {
   "cell_type": "code",
   "execution_count": 13,
   "metadata": {},
   "outputs": [
    {
     "data": {
      "text/html": [
       "<div>\n",
       "<style scoped>\n",
       "    .dataframe tbody tr th:only-of-type {\n",
       "        vertical-align: middle;\n",
       "    }\n",
       "\n",
       "    .dataframe tbody tr th {\n",
       "        vertical-align: top;\n",
       "    }\n",
       "\n",
       "    .dataframe thead th {\n",
       "        text-align: right;\n",
       "    }\n",
       "</style>\n",
       "<table border=\"1\" class=\"dataframe\">\n",
       "  <thead>\n",
       "    <tr style=\"text-align: right;\">\n",
       "      <th></th>\n",
       "      <th>Date</th>\n",
       "      <th>Time</th>\n",
       "      <th>WDR</th>\n",
       "      <th>TEMP</th>\n",
       "      <th>WSP</th>\n",
       "      <th>NO</th>\n",
       "      <th>NO2</th>\n",
       "      <th>CO</th>\n",
       "      <th>OZONE</th>\n",
       "      <th>OZONE_4</th>\n",
       "      <th>PM10</th>\n",
       "      <th>PM2.5</th>\n",
       "      <th>HUMID</th>\n",
       "      <th>SD1</th>\n",
       "      <th>CO_8</th>\n",
       "    </tr>\n",
       "  </thead>\n",
       "  <tbody>\n",
       "    <tr>\n",
       "      <th>0</th>\n",
       "      <td>01/01/2017</td>\n",
       "      <td>01:00</td>\n",
       "      <td>152.3</td>\n",
       "      <td>22.6</td>\n",
       "      <td>0.4</td>\n",
       "      <td>0.0</td>\n",
       "      <td>0.4</td>\n",
       "      <td>0.0</td>\n",
       "      <td>2.0</td>\n",
       "      <td>2.1</td>\n",
       "      <td>23.6</td>\n",
       "      <td>7.0</td>\n",
       "      <td>87.2</td>\n",
       "      <td>49.01</td>\n",
       "      <td>0.0</td>\n",
       "    </tr>\n",
       "    <tr>\n",
       "      <th>1</th>\n",
       "      <td>01/01/2017</td>\n",
       "      <td>02:00</td>\n",
       "      <td>134.0</td>\n",
       "      <td>22.6</td>\n",
       "      <td>0.3</td>\n",
       "      <td>0.0</td>\n",
       "      <td>0.0</td>\n",
       "      <td>0.0</td>\n",
       "      <td>0.0</td>\n",
       "      <td>2.2</td>\n",
       "      <td>21.0</td>\n",
       "      <td>6.6</td>\n",
       "      <td>87.2</td>\n",
       "      <td>46.56</td>\n",
       "      <td>0.0</td>\n",
       "    </tr>\n",
       "    <tr>\n",
       "      <th>2</th>\n",
       "      <td>01/01/2017</td>\n",
       "      <td>03:00</td>\n",
       "      <td>132.2</td>\n",
       "      <td>22.6</td>\n",
       "      <td>0.3</td>\n",
       "      <td>0.0</td>\n",
       "      <td>0.6</td>\n",
       "      <td>0.0</td>\n",
       "      <td>1.7</td>\n",
       "      <td>2.0</td>\n",
       "      <td>20.0</td>\n",
       "      <td>7.2</td>\n",
       "      <td>87.0</td>\n",
       "      <td>47.40</td>\n",
       "      <td>0.0</td>\n",
       "    </tr>\n",
       "    <tr>\n",
       "      <th>3</th>\n",
       "      <td>01/01/2017</td>\n",
       "      <td>04:00</td>\n",
       "      <td>125.8</td>\n",
       "      <td>22.7</td>\n",
       "      <td>0.2</td>\n",
       "      <td>0.0</td>\n",
       "      <td>0.5</td>\n",
       "      <td>0.0</td>\n",
       "      <td>1.7</td>\n",
       "      <td>1.8</td>\n",
       "      <td>21.4</td>\n",
       "      <td>7.1</td>\n",
       "      <td>87.2</td>\n",
       "      <td>53.70</td>\n",
       "      <td>0.0</td>\n",
       "    </tr>\n",
       "    <tr>\n",
       "      <th>4</th>\n",
       "      <td>01/01/2017</td>\n",
       "      <td>05:00</td>\n",
       "      <td>107.9</td>\n",
       "      <td>22.8</td>\n",
       "      <td>0.6</td>\n",
       "      <td>0.0</td>\n",
       "      <td>0.3</td>\n",
       "      <td>0.0</td>\n",
       "      <td>2.1</td>\n",
       "      <td>1.8</td>\n",
       "      <td>21.5</td>\n",
       "      <td>4.3</td>\n",
       "      <td>86.8</td>\n",
       "      <td>41.65</td>\n",
       "      <td>0.0</td>\n",
       "    </tr>\n",
       "  </tbody>\n",
       "</table>\n",
       "</div>"
      ],
      "text/plain": [
       "         Date   Time    WDR  TEMP  WSP   NO  NO2   CO  OZONE  OZONE_4  PM10  \\\n",
       "0  01/01/2017  01:00  152.3  22.6  0.4  0.0  0.4  0.0    2.0      2.1  23.6   \n",
       "1  01/01/2017  02:00  134.0  22.6  0.3  0.0  0.0  0.0    0.0      2.2  21.0   \n",
       "2  01/01/2017  03:00  132.2  22.6  0.3  0.0  0.6  0.0    1.7      2.0  20.0   \n",
       "3  01/01/2017  04:00  125.8  22.7  0.2  0.0  0.5  0.0    1.7      1.8  21.4   \n",
       "4  01/01/2017  05:00  107.9  22.8  0.6  0.0  0.3  0.0    2.1      1.8  21.5   \n",
       "\n",
       "   PM2.5  HUMID    SD1  CO_8  \n",
       "0    7.0   87.2  49.01   0.0  \n",
       "1    6.6   87.2  46.56   0.0  \n",
       "2    7.2   87.0  47.40   0.0  \n",
       "3    7.1   87.2  53.70   0.0  \n",
       "4    4.3   86.8  41.65   0.0  "
      ]
     },
     "execution_count": 13,
     "metadata": {},
     "output_type": "execute_result"
    }
   ],
   "source": [
    "df.head()"
   ]
  },
  {
   "cell_type": "code",
   "execution_count": 14,
   "metadata": {},
   "outputs": [],
   "source": [
    "#df = df.drop_duplicates()"
   ]
  },
  {
   "cell_type": "code",
   "execution_count": 15,
   "metadata": {},
   "outputs": [
    {
     "data": {
      "text/plain": [
       "Date       8784\n",
       "Time       8784\n",
       "WDR        8784\n",
       "TEMP       8784\n",
       "WSP        8784\n",
       "NO         8784\n",
       "NO2        8784\n",
       "CO         8784\n",
       "OZONE      8784\n",
       "OZONE_4    8784\n",
       "PM10       8784\n",
       "PM2.5      8784\n",
       "HUMID      8784\n",
       "SD1        8784\n",
       "CO_8       8784\n",
       "dtype: int64"
      ]
     },
     "execution_count": 15,
     "metadata": {},
     "output_type": "execute_result"
    }
   ],
   "source": [
    "df.count()"
   ]
  },
  {
   "cell_type": "code",
   "execution_count": 16,
   "metadata": {},
   "outputs": [
    {
     "data": {
      "text/plain": [
       "<AxesSubplot:>"
      ]
     },
     "execution_count": 16,
     "metadata": {},
     "output_type": "execute_result"
    },
    {
     "data": {
      "image/png": "[encoded data removed]",
      "text/plain": [
       "<Figure size 1440x720 with 1 Axes>"
      ]
     },
     "metadata": {
      "needs_background": "light"
     },
     "output_type": "display_data"
    }
   ],
   "source": [
    "df.plot.box(figsize = (20,10))"
   ]
  },
  {
   "cell_type": "code",
   "execution_count": 22,
   "metadata": {},
   "outputs": [],
   "source": [
    "from scipy.stats import zscore"
   ]
  },
  {
   "cell_type": "code",
   "execution_count": 23,
   "metadata": {},
   "outputs": [],
   "source": [
    "def zscore_filter_target(dados, target, graus = 3, axis=0, ddof=0, nan_policy='propagate'):\n",
    "  # exemplo\n",
    "  '''\n",
    "  dados = dataset em formato pandas.\n",
    "  target = coluna de identificação da variável target. Apenas se forem classes.\n",
    "  graus = numero de graus de liberdade que o modelo assumirá\n",
    "  retorno = identificação de outliers dentro do conjunto de dados  e os elimina do dataset.\n",
    "  '''\n",
    "  tg_list = dados[target].unique() #* verificar as classes distintas\n",
    "  name_col = list(dados.drop(target, axis=1)) #* selecionar a coluna\n",
    "  filtro = dados.columns\n",
    "  graus = graus\n",
    "  df_retorno = []\n",
    "  for values, tg in enumerate(tg_list):\n",
    "    subset = dados[dados[target] == tg] # quebar o dataset por classe em outros df\n",
    "    for variavel in name_col:\n",
    "      X = np.array(subset[variavel])\n",
    "      out = zscore(X, axis=axis, ddof=ddof, nan_policy=nan_policy)\n",
    "      X = np.reshape(X, (len(X), 1))\n",
    "      subset[f'{variavel}_outlier'] = out\n",
    "      print(subset)\n",
    "    df_retorno.append(subset)\n",
    "  retorno = pd.concat(df_retorno)\n",
    "  retorno = retorno[retorno[f'{variavel}_outlier'] <= graus]\n",
    "  retorno = retorno[retorno[f'{variavel}_outlier'] >= ((graus)* -1)]\n",
    "  retorno = retorno.filter(filtro)\n",
    "  return retorno"
   ]
  },
  {
   "cell_type": "code",
   "execution_count": 154,
   "metadata": {},
   "outputs": [],
   "source": [
    "from cgi import test\n",
    "\n",
    "\n",
    "def zscore_filter(dados, graus = 3, axis=0, ddof=0, nan_policy='propagate'):\n",
    "  # exemplo\n",
    "  '''\n",
    "  dados = dataset em formato pandas.\n",
    "  target = coluna de identificação da variável target. Apenas se forem classes.\n",
    "  graus = numero de graus de liberdade que o modelo assumirá\n",
    "  retorno = identificação de outliers dentro do conjunto de dados  e os elimina do dataset.\n",
    "  '''\n",
    "  #name_col = list(dados)\n",
    "  filtro = dados.columns\n",
    "  graus = graus\n",
    "  df_retorno = []\n",
    "  for variavel in filtro:\n",
    "    subset = dados[variavel]\n",
    "    X = np.array(subset)\n",
    "    out = zscore(X, axis=axis, ddof=ddof, nan_policy=nan_policy)\n",
    "    out = list(out)\n",
    "    #X = np.reshape(X, (len(X), 1))\n",
    "    #out = np.reshape(out, (1, len(out)))\n",
    "    #[f'{variavel}_zscore'] = out\n",
    "    #df_retorno.append(list(X))\n",
    "    #df_retorno.append(list(out))\n",
    "    subset = subset.insert(len(filtro)+1, f'{variavel}_zscore', out, allow_duplicates=False)\n",
    "    \n",
    "    #\n",
    "    #subset[f'{variavel}_outlier'] = out\n",
    "    \n",
    "  #df_retorno.append(subset)\n",
    "  #retorno = pd.DataFrame(df_retorno)\n",
    "  #retorno = retorno[retorno[f'{variavel}_outlier'] <= graus]\n",
    "  #retorno = retorno[retorno[f'{variavel}_outlier'] >= ((graus)* -1)]\n",
    "  #retorno = retorno.filter(filtro)\n",
    "  #return subset"
   ]
  },
  {
   "cell_type": "code",
   "execution_count": 155,
   "metadata": {},
   "outputs": [
    {
     "ename": "AttributeError",
     "evalue": "'Series' object has no attribute 'insert'",
     "output_type": "error",
     "traceback": [
      "\u001b[1;31m---------------------------------------------------------------------------\u001b[0m",
      "\u001b[1;31mAttributeError\u001b[0m                            Traceback (most recent call last)",
      "\u001b[1;32mc:\\Users\\Nivea Helena\\Documents\\developer\\ciencia de dados\\projetos_ds\\Data_cleaning\\data_cleaning_air_quality.ipynb Célula: 14\u001b[0m in \u001b[0;36m<cell line: 1>\u001b[1;34m()\u001b[0m\n\u001b[1;32m----> <a href='vscode-notebook-cell:/c%3A/Users/Nivea%20Helena/Documents/developer/ciencia%20de%20dados/projetos_ds/Data_cleaning/data_cleaning_air_quality.ipynb#X23sZmlsZQ%3D%3D?line=0'>1</a>\u001b[0m teste \u001b[39m=\u001b[39m zscore_filter(df, graus \u001b[39m=\u001b[39;49m \u001b[39m3\u001b[39;49m)\n",
      "\u001b[1;32mc:\\Users\\Nivea Helena\\Documents\\developer\\ciencia de dados\\projetos_ds\\Data_cleaning\\data_cleaning_air_quality.ipynb Célula: 14\u001b[0m in \u001b[0;36mzscore_filter\u001b[1;34m(dados, graus, axis, ddof, nan_policy)\u001b[0m\n\u001b[0;32m     <a href='vscode-notebook-cell:/c%3A/Users/Nivea%20Helena/Documents/developer/ciencia%20de%20dados/projetos_ds/Data_cleaning/data_cleaning_air_quality.ipynb#X23sZmlsZQ%3D%3D?line=19'>20</a>\u001b[0m out \u001b[39m=\u001b[39m \u001b[39mlist\u001b[39m(out)\n\u001b[0;32m     <a href='vscode-notebook-cell:/c%3A/Users/Nivea%20Helena/Documents/developer/ciencia%20de%20dados/projetos_ds/Data_cleaning/data_cleaning_air_quality.ipynb#X23sZmlsZQ%3D%3D?line=20'>21</a>\u001b[0m \u001b[39m#X = np.reshape(X, (len(X), 1))\u001b[39;00m\n\u001b[0;32m     <a href='vscode-notebook-cell:/c%3A/Users/Nivea%20Helena/Documents/developer/ciencia%20de%20dados/projetos_ds/Data_cleaning/data_cleaning_air_quality.ipynb#X23sZmlsZQ%3D%3D?line=21'>22</a>\u001b[0m \u001b[39m#out = np.reshape(out, (1, len(out)))\u001b[39;00m\n\u001b[0;32m     <a href='vscode-notebook-cell:/c%3A/Users/Nivea%20Helena/Documents/developer/ciencia%20de%20dados/projetos_ds/Data_cleaning/data_cleaning_air_quality.ipynb#X23sZmlsZQ%3D%3D?line=22'>23</a>\u001b[0m \u001b[39m#[f'{variavel}_zscore'] = out\u001b[39;00m\n\u001b[0;32m     <a href='vscode-notebook-cell:/c%3A/Users/Nivea%20Helena/Documents/developer/ciencia%20de%20dados/projetos_ds/Data_cleaning/data_cleaning_air_quality.ipynb#X23sZmlsZQ%3D%3D?line=23'>24</a>\u001b[0m \u001b[39m#df_retorno.append(list(X))\u001b[39;00m\n\u001b[0;32m     <a href='vscode-notebook-cell:/c%3A/Users/Nivea%20Helena/Documents/developer/ciencia%20de%20dados/projetos_ds/Data_cleaning/data_cleaning_air_quality.ipynb#X23sZmlsZQ%3D%3D?line=24'>25</a>\u001b[0m \u001b[39m#df_retorno.append(list(out))\u001b[39;00m\n\u001b[1;32m---> <a href='vscode-notebook-cell:/c%3A/Users/Nivea%20Helena/Documents/developer/ciencia%20de%20dados/projetos_ds/Data_cleaning/data_cleaning_air_quality.ipynb#X23sZmlsZQ%3D%3D?line=25'>26</a>\u001b[0m subset \u001b[39m=\u001b[39m subset\u001b[39m.\u001b[39;49minsert(\u001b[39mlen\u001b[39m(filtro)\u001b[39m+\u001b[39m\u001b[39m1\u001b[39m, \u001b[39mf\u001b[39m\u001b[39m'\u001b[39m\u001b[39m{\u001b[39;00mvariavel\u001b[39m}\u001b[39;00m\u001b[39m_zscore\u001b[39m\u001b[39m'\u001b[39m, out, allow_duplicates\u001b[39m=\u001b[39m\u001b[39mFalse\u001b[39;00m)\n",
      "File \u001b[1;32mc:\\Users\\Nivea Helena\\AppData\\Local\\Programs\\Python\\Python310\\lib\\site-packages\\pandas\\core\\generic.py:5583\u001b[0m, in \u001b[0;36mNDFrame.__getattr__\u001b[1;34m(self, name)\u001b[0m\n\u001b[0;32m   5576\u001b[0m \u001b[39mif\u001b[39;00m (\n\u001b[0;32m   5577\u001b[0m     name \u001b[39mnot\u001b[39;00m \u001b[39min\u001b[39;00m \u001b[39mself\u001b[39m\u001b[39m.\u001b[39m_internal_names_set\n\u001b[0;32m   5578\u001b[0m     \u001b[39mand\u001b[39;00m name \u001b[39mnot\u001b[39;00m \u001b[39min\u001b[39;00m \u001b[39mself\u001b[39m\u001b[39m.\u001b[39m_metadata\n\u001b[0;32m   5579\u001b[0m     \u001b[39mand\u001b[39;00m name \u001b[39mnot\u001b[39;00m \u001b[39min\u001b[39;00m \u001b[39mself\u001b[39m\u001b[39m.\u001b[39m_accessors\n\u001b[0;32m   5580\u001b[0m     \u001b[39mand\u001b[39;00m \u001b[39mself\u001b[39m\u001b[39m.\u001b[39m_info_axis\u001b[39m.\u001b[39m_can_hold_identifiers_and_holds_name(name)\n\u001b[0;32m   5581\u001b[0m ):\n\u001b[0;32m   5582\u001b[0m     \u001b[39mreturn\u001b[39;00m \u001b[39mself\u001b[39m[name]\n\u001b[1;32m-> 5583\u001b[0m \u001b[39mreturn\u001b[39;00m \u001b[39mobject\u001b[39;49m\u001b[39m.\u001b[39;49m\u001b[39m__getattribute__\u001b[39;49m(\u001b[39mself\u001b[39;49m, name)\n",
      "\u001b[1;31mAttributeError\u001b[0m: 'Series' object has no attribute 'insert'"
     ]
    }
   ],
   "source": [
    "teste = zscore_filter(df, graus = 3)"
   ]
  },
  {
   "cell_type": "code",
   "execution_count": 149,
   "metadata": {},
   "outputs": [],
   "source": [
    "teste"
   ]
  },
  {
   "cell_type": "code",
   "execution_count": null,
   "metadata": {},
   "outputs": [],
   "source": []
  },
  {
   "cell_type": "code",
   "execution_count": null,
   "metadata": {},
   "outputs": [],
   "source": []
  }
 ],
 "metadata": {
  "kernelspec": {
   "display_name": "Python 3.10.4 64-bit",
   "language": "python",
   "name": "python3"
  },
  "language_info": {
   "codemirror_mode": {
    "name": "ipython",
    "version": 3
   },
   "file_extension": ".py",
   "mimetype": "text/x-python",
   "name": "python",
   "nbconvert_exporter": "python",
   "pygments_lexer": "ipython3",
   "version": "3.10.4"
  },
  "orig_nbformat": 4,
  "vscode": {
   "interpreter": {
    "hash": "b23e96e9000235e1d8fba2639f011a7c795a3ab50ce0f28a1a9cb5c7362660a5"
   }
  }
 },
 "nbformat": 4,
 "nbformat_minor": 2
}
